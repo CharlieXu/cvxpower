{
 "cells": [
  {
   "cell_type": "markdown",
   "metadata": {},
   "source": [
    "Static power flow examples"
   ]
  },
  {
   "cell_type": "code",
   "execution_count": 1,
   "metadata": {
    "collapsed": true
   },
   "outputs": [],
   "source": [
    "%matplotlib inline\n",
    "import matplotlib.pyplot as plt\n",
    "import matplotlib\n",
    "import numpy as np\n",
    "\n",
    "from dem import *\n",
    "\n",
    "matplotlib.rc(\"figure\", figsize=(7,7))\n",
    "matplotlib.rc(\"lines\", linewidth=2)"
   ]
  },
  {
   "cell_type": "markdown",
   "metadata": {},
   "source": [
    "# Basic examples"
   ]
  },
  {
   "cell_type": "markdown",
   "metadata": {},
   "source": [
    "## Hello world"
   ]
  },
  {
   "cell_type": "code",
   "execution_count": 5,
   "metadata": {
    "collapsed": false
   },
   "outputs": [
    {
     "name": "stdout",
     "output_type": "stream",
     "text": [
      "Terminal                  Power\n",
      "--------                  -----\n",
      "Load[0]                100.0000\n",
      "Generator[0]          -100.0000\n",
      "\n",
      "Net                       Price\n",
      "---                       -----\n",
      "Net                    102.0001\n"
     ]
    }
   ],
   "source": [
    "load = Load(p=100)\n",
    "gen = Generator(p_max=1000, alpha=0.01, beta=100)\n",
    "net = Net([load.terminals[0], gen.terminals[0]])\n",
    "\n",
    "network = Group([load, gen], [net])\n",
    "network.optimize()\n",
    "network.print_results()"
   ]
  },
  {
   "cell_type": "markdown",
   "metadata": {},
   "source": [
    "## Curtailable load"
   ]
  },
  {
   "cell_type": "code",
   "execution_count": 6,
   "metadata": {
    "collapsed": false
   },
   "outputs": [
    {
     "name": "stdout",
     "output_type": "stream",
     "text": [
      "Terminal                  Power\n",
      "--------                  -----\n",
      "CurtailableLoad[0]      25.0026\n",
      "Generator[0]           -25.0026\n",
      "\n",
      "Net                       Price\n",
      "---                       -----\n",
      "Net                    150.0000\n"
     ]
    }
   ],
   "source": [
    "load = CurtailableLoad(p=1000, alpha=150)\n",
    "gen = Generator(p_max=1000, alpha=1, beta=100)\n",
    "net = Net([load.terminals[0], gen.terminals[0]])\n",
    "\n",
    "network = Group([load, gen], [net])\n",
    "network.optimize()\n",
    "network.print_results()"
   ]
  },
  {
   "cell_type": "markdown",
   "metadata": {},
   "source": [
    "## Two generators, transmission line"
   ]
  },
  {
   "cell_type": "code",
   "execution_count": 7,
   "metadata": {
    "collapsed": false
   },
   "outputs": [
    {
     "name": "stdout",
     "output_type": "stream",
     "text": [
      "Terminal                  Power\n",
      "--------                  -----\n",
      "Load[0]                100.0000\n",
      "Gen1[0]                -50.0000\n",
      "Gen2[0]                -50.0000\n",
      "TransmissionLine[0]    -50.0000\n",
      "TransmissionLine[1]     50.0000\n",
      "\n",
      "Net                       Price\n",
      "---                       -----\n",
      "Net                    101.0001\n",
      "Net                     10.1002\n"
     ]
    }
   ],
   "source": [
    "load = Load(p=100)\n",
    "gen1 = Generator(p_max=1000, alpha=0.01, beta=100, name=\"Gen1\")\n",
    "gen2 = Generator(p_max=100, alpha=0.1, beta=0.1, name=\"Gen2\")\n",
    "line = TransmissionLine(p_max=50)\n",
    "\n",
    "net1 = Net([load.terminals[0], gen1.terminals[0], line.terminals[0]])\n",
    "net2 = Net([gen2.terminals[0], line.terminals[1]])\n",
    "\n",
    "network = Group([load, gen1, gen2, line], [net1, net2])\n",
    "network.optimize()\n",
    "network.print_results()"
   ]
  },
  {
   "cell_type": "markdown",
   "metadata": {},
   "source": [
    "## Three buses\n",
    "\n",
    "Figure 2.1 from Kraning, et al. without the battery.\n",
    "\n",
    "![Three bus example](./three_bus.png)\n",
    "\n"
   ]
  },
  {
   "cell_type": "code",
   "execution_count": 8,
   "metadata": {
    "collapsed": false
   },
   "outputs": [
    {
     "name": "stdout",
     "output_type": "stream",
     "text": [
      "Terminal                  Power\n",
      "--------                  -----\n",
      "Load1[0]                50.0000\n",
      "Load2[0]               100.0000\n",
      "Gen1[0]                -90.0000\n",
      "Gen2[0]                -60.0000\n",
      "TransmissionLine[0]     50.0000\n",
      "TransmissionLine[1]    -50.0000\n",
      "TransmissionLine[0]    -10.0000\n",
      "TransmissionLine[1]     10.0000\n",
      "TransmissionLine[0]    -50.0000\n",
      "TransmissionLine[1]     50.0000\n",
      "\n",
      "Net                       Price\n",
      "---                       -----\n",
      "Net                    101.8008\n",
      "Net                    196.1916\n",
      "Net                     12.0975\n"
     ]
    }
   ],
   "source": [
    "load1 = Load(p=50, name=\"Load1\")\n",
    "load2 = Load(p=100, name=\"Load2\")\n",
    "gen1 = Generator(p_max=1000, alpha=0.01, beta=100, name=\"Gen1\")\n",
    "gen2 = Generator(p_max=100, alpha=0.1, beta=0.1, name=\"Gen2\")\n",
    "line1 = TransmissionLine(p_max=50)\n",
    "line2 = TransmissionLine(p_max=10)\n",
    "line3 = TransmissionLine(p_max=50)\n",
    "\n",
    "net1 = Net([load1.terminals[0], gen1.terminals[0], line1.terminals[0], line2.terminals[0]])\n",
    "net2 = Net([load2.terminals[0], line1.terminals[1], line3.terminals[0]])\n",
    "net3 = Net([gen2.terminals[0], line2.terminals[1], line3.terminals[1]])\n",
    "\n",
    "network = Group([load1, load2, gen1, gen2, line1, line2, line3], [net1, net2, net3])\n",
    "network.optimize()\n",
    "network.print_results()"
   ]
  },
  {
   "cell_type": "markdown",
   "metadata": {},
   "source": [
    "# Grouping devices\n",
    "\n",
    "We can wrap up several devices and nets into a single device"
   ]
  },
  {
   "cell_type": "code",
   "execution_count": 2,
   "metadata": {
    "collapsed": false
   },
   "outputs": [
    {
     "name": "stdout",
     "output_type": "stream",
     "text": [
      "Terminal                  Power\n",
      "--------                  -----\n",
      "Home[0]                  3.0000\n",
      "Grid[0]                 -3.0000\n",
      "\n",
      "Net                       Price\n",
      "---                       -----\n",
      "Meter                  100.3000\n"
     ]
    }
   ],
   "source": [
    "solar = Generator(p_max=10, alpha=0, beta=0, name=\"Solar\")\n",
    "load = Load(p=13)\n",
    "line = TransmissionLine(p_max=25)\n",
    "net = Net([load.terminals[0], solar.terminals[0], line.terminals[0]])\n",
    "home = Group([solar, load, line], [net], [line.terminals[1]], name=\"Home\")\n",
    "\n",
    "grid = Generator(p_max=1e6, alpha=0.05, beta=100, name=\"Grid\")\n",
    "meter = Net([line.terminals[1], grid.terminals[0]], name=\"Meter\")\n",
    "\n",
    "network = Group([home, grid], [meter])\n",
    "network.optimize()\n",
    "network.print_results()"
   ]
  },
  {
   "cell_type": "markdown",
   "metadata": {},
   "source": [
    "# Varying parameters\n",
    "\n",
    "We can modify a single parameter and reoptimize, which is useful for sweeping over a parameter range."
   ]
  },
  {
   "cell_type": "code",
   "execution_count": 4,
   "metadata": {
    "collapsed": false
   },
   "outputs": [
    {
     "data": {
      "text/plain": [
       "<matplotlib.legend.Legend at 0x1105c0910>"
      ]
     },
     "execution_count": 4,
     "metadata": {},
     "output_type": "execute_result"
    },
    {
     "data": {
      "image/png": "[encoded data removed]",
      "text/plain": [
       "<matplotlib.figure.Figure at 0x110908e90>"
      ]
     },
     "metadata": {},
     "output_type": "display_data"
    }
   ],
   "source": [
    "load1 = Load(p=50, name=\"Load1\")\n",
    "load2 = Load(p=100, name=\"Load2\")\n",
    "gen1 = Generator(p_max=100, alpha=1, beta=10, name=\"Gen1\")\n",
    "gen2 = Generator(p_max=1000, alpha=0.01, beta=0, name=\"Gen2\")\n",
    "line1 = TransmissionLine(p_max=100)\n",
    "line2 = TransmissionLine(p_max=10)\n",
    "line3 = TransmissionLine()\n",
    "\n",
    "net1 = Net([load1.terminals[0], gen1.terminals[0], line1.terminals[0], line2.terminals[0]])\n",
    "net2 = Net([load2.terminals[0], line1.terminals[1], line3.terminals[0]])\n",
    "net3 = Net([gen2.terminals[0], line2.terminals[1], line3.terminals[1]])\n",
    "network = Group([load1, load2, gen1, gen2, line1, line2, line3], [net1, net2, net3])\n",
    "\n",
    "xs = np.linspace(0, 150, 100)\n",
    "prices = np.empty((len(xs), 3))\n",
    "for i, x in enumerate(xs):\n",
    "    line3.p_max = x\n",
    "    network.optimize()\n",
    "    prices[i,:] = [net.price for net in network.nets]\n",
    "    \n",
    "plt.plot(xs, prices)\n",
    "plt.xlabel(\"Line capacity\")\n",
    "plt.ylabel(\"Price\")\n",
    "plt.legend([\"Bus 1\", \"Bus 2\", \"Bus 3\"])"
   ]
  },
  {
   "cell_type": "markdown",
   "metadata": {},
   "source": [
    "# IEEE 14 bus power flow test cases\n",
    "\n",
    "From http://www.ee.washington.edu/research/pstca/pf14/pg_tca14bus.htm:\n",
    "\n",
    "> The IEEE 14 Bus Test Case represents a portion of the American Electric Power System (in the Midwestern US) as of February, 1962. A much-Xeroxed paper version of the data was kindly provided by Iraj Dabbagchi of AEP and entered in IEEE Common Data Format by Rich Christie at the University of Washington in August 1993. "
   ]
  },
  {
   "cell_type": "code",
   "execution_count": null,
   "metadata": {
    "collapsed": true
   },
   "outputs": [],
   "source": [
    "# TODO(mwytock): write parsing code\n",
    "devices, nets = read_ieee_cdf(open(\"ieee14cdf.txt\"))\n",
    "optimize(devices, nets)\n",
    "print_results(devices, nets)"
   ]
  }
 ],
 "metadata": {
  "kernelspec": {
   "display_name": "Python 2",
   "language": "python",
   "name": "python2"
  },
  "language_info": {
   "codemirror_mode": {
    "name": "ipython",
    "version": 2
   },
   "file_extension": ".py",
   "mimetype": "text/x-python",
   "name": "python",
   "nbconvert_exporter": "python",
   "pygments_lexer": "ipython2",
   "version": "2.7.11"
  }
 },
 "nbformat": 4,
 "nbformat_minor": 0
}
