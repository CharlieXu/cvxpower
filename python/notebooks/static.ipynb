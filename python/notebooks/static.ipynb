{
 "cells": [
  {
   "cell_type": "markdown",
   "metadata": {},
   "source": [
    "Static power flow examples"
   ]
  },
  {
   "cell_type": "code",
   "execution_count": 1,
   "metadata": {
    "collapsed": true
   },
   "outputs": [],
   "source": [
    "from dem import *"
   ]
  },
  {
   "cell_type": "markdown",
   "metadata": {},
   "source": [
    "# Hello world"
   ]
  },
  {
   "cell_type": "code",
   "execution_count": 94,
   "metadata": {
    "collapsed": false
   },
   "outputs": [
    {
     "name": "stdout",
     "output_type": "stream",
     "text": [
      "Terminal                  Power\n",
      "--------                  -----\n",
      "Load[0]                100.0000\n",
      "Generator[0]          -100.0000\n",
      "\n",
      "Net                       Price\n",
      "---                       -----\n",
      "Net                    102.0001\n"
     ]
    }
   ],
   "source": [
    "load = Load(p=100)\n",
    "gen = Generator(p_max=1000, alpha=0.01, beta=100)\n",
    "net = Net([load.terminals[0], gen.terminals[0]])\n",
    "\n",
    "optimize([load, gen], [net])\n",
    "print_results([load, gen], [net])"
   ]
  },
  {
   "cell_type": "markdown",
   "metadata": {},
   "source": [
    "# Curtailable load"
   ]
  },
  {
   "cell_type": "code",
   "execution_count": 111,
   "metadata": {
    "collapsed": false
   },
   "outputs": [
    {
     "name": "stdout",
     "output_type": "stream",
     "text": [
      "Terminal                  Power\n",
      "--------                  -----\n",
      "CurtailableLoad[0]      25.0026\n",
      "Generator[0]           -25.0026\n",
      "\n",
      "Net                       Price\n",
      "---                       -----\n",
      "Net                    150.0000\n"
     ]
    }
   ],
   "source": [
    "load = CurtailableLoad(p=1000, alpha=150)\n",
    "gen = Generator(p_max=1000, alpha=1, beta=100)\n",
    "net = Net([load.terminals[0], gen.terminals[0]])\n",
    "\n",
    "optimize([load, gen], [net])\n",
    "print_results([load, gen], [net])"
   ]
  },
  {
   "cell_type": "markdown",
   "metadata": {},
   "source": [
    "# Two generators, transmission line"
   ]
  },
  {
   "cell_type": "code",
   "execution_count": 93,
   "metadata": {
    "collapsed": false
   },
   "outputs": [
    {
     "name": "stdout",
     "output_type": "stream",
     "text": [
      "Terminal                  Power\n",
      "--------                  -----\n",
      "Load[0]                100.0000\n",
      "Gen1[0]                -50.0000\n",
      "Gen2[0]                -50.0000\n",
      "TransmissionLine[0]    -50.0000\n",
      "TransmissionLine[1]     50.0000\n",
      "\n",
      "Net                       Price\n",
      "---                       -----\n",
      "Net                    101.0001\n",
      "Net                     10.1001\n"
     ]
    }
   ],
   "source": [
    "load = Load(p=100)\n",
    "gen1 = Generator(p_max=1000, alpha=0.01, beta=100, name=\"Gen1\")\n",
    "gen2 = Generator(p_max=100, alpha=0.1, beta=0.1, name=\"Gen2\")\n",
    "line = TransmissionLine(p_max=50)\n",
    "\n",
    "net1 = Net([load.terminals[0], gen1.terminals[0], line.terminals[0]])\n",
    "net2 = Net([gen2.terminals[0], line.terminals[1]])\n",
    "\n",
    "devices = [load, gen1, gen2, line]\n",
    "nets = [net1, net2]\n",
    "\n",
    "optimize(devices, nets)\n",
    "print_results(devices, nets)"
   ]
  },
  {
   "cell_type": "markdown",
   "metadata": {},
   "source": [
    "# Three buses\n",
    "\n",
    "Figure 2.1 from Kraning, et al. without the battery.\n",
    "\n",
    "![Three bus example](./three_bus.png)\n",
    "\n"
   ]
  },
  {
   "cell_type": "code",
   "execution_count": 96,
   "metadata": {
    "collapsed": false
   },
   "outputs": [
    {
     "name": "stdout",
     "output_type": "stream",
     "text": [
      "Terminal                  Power\n",
      "--------                  -----\n",
      "Load1[0]                50.0000\n",
      "Load2[0]               100.0000\n",
      "Gen1[0]                -90.0000\n",
      "Gen2[0]                -60.0000\n",
      "TransmissionLine[0]     50.0000\n",
      "TransmissionLine[1]    -50.0000\n",
      "TransmissionLine[0]    -10.0000\n",
      "TransmissionLine[1]     10.0000\n",
      "TransmissionLine[0]    -50.0000\n",
      "TransmissionLine[1]     50.0000\n",
      "\n",
      "Net                       Price\n",
      "---                       -----\n",
      "Net                    101.8008\n",
      "Net                    196.1859\n",
      "Net                     12.0975\n"
     ]
    }
   ],
   "source": [
    "load1 = Load(p=50, name=\"Load1\")\n",
    "load2 = Load(p=100, name=\"Load2\")\n",
    "gen1 = Generator(p_max=1000, alpha=0.01, beta=100, name=\"Gen1\")\n",
    "gen2 = Generator(p_max=100, alpha=0.1, beta=0.1, name=\"Gen2\")\n",
    "line1 = TransmissionLine(p_max=50)\n",
    "line2 = TransmissionLine(p_max=10)\n",
    "line3 = TransmissionLine(p_max=50)\n",
    "\n",
    "net1 = Net([load1.terminals[0], gen1.terminals[0], line1.terminals[0], line2.terminals[0]])\n",
    "net2 = Net([load2.terminals[0], line1.terminals[1], line3.terminals[0]])\n",
    "net3 = Net([gen2.terminals[0], line2.terminals[1], line3.terminals[1]])\n",
    "\n",
    "devices = [load1, load2, gen1, gen2, line1, line2, line3]\n",
    "nets = [net1, net2, net3]\n",
    "\n",
    "optimize(devices, nets)\n",
    "print_results(devices, nets)"
   ]
  },
  {
   "cell_type": "markdown",
   "metadata": {},
   "source": [
    "# IEEE 14 bus power flow test case\n",
    "\n",
    "From http://www.ee.washington.edu/research/pstca/pf14/pg_tca14bus.htm:\n",
    "\n",
    "> The IEEE 14 Bus Test Case represents a portion of the American Electric Power System (in the Midwestern US) as of February, 1962. A much-Xeroxed paper version of the data was kindly provided by Iraj Dabbagchi of AEP and entered in IEEE Common Data Format by Rich Christie at the University of Washington in August 1993. "
   ]
  },
  {
   "cell_type": "code",
   "execution_count": null,
   "metadata": {
    "collapsed": true
   },
   "outputs": [],
   "source": [
    "# TODO(mwytock): write parsing code\n",
    "devices, nets = read_ieee_cdf(open(\"ieee14cdf.txt\"))\n",
    "optimize(devices, nets)\n",
    "print_results(devices, nets)"
   ]
  }
 ],
 "metadata": {
  "kernelspec": {
   "display_name": "Python 2",
   "language": "python",
   "name": "python2"
  },
  "language_info": {
   "codemirror_mode": {
    "name": "ipython",
    "version": 2
   },
   "file_extension": ".py",
   "mimetype": "text/x-python",
   "name": "python",
   "nbconvert_exporter": "python",
   "pygments_lexer": "ipython2",
   "version": "2.7.11"
  }
 },
 "nbformat": 4,
 "nbformat_minor": 0
}
