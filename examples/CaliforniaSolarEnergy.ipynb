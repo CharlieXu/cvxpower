{
 "cells": [
  {
   "cell_type": "markdown",
   "metadata": {},
   "source": [
    "# California mock grid using solar power\n",
    "\n",
    "An example of a grid with three nodes (northern California, Los Angeles metropolitan area, and the rest of southern California) alimented by a single solar power generator, with four storage units. We use real load data, from CalISO, and real insolation data, from NREL. "
   ]
  },
  {
   "cell_type": "code",
   "execution_count": 1,
   "metadata": {},
   "outputs": [],
   "source": [
    "%matplotlib inline\n",
    "import datetime\n",
    "import pandas as pd\n",
    "import matplotlib\n",
    "import numpy as np\n",
    "import cvxpy as cvx\n",
    "from matplotlib import pyplot as plt\n",
    "\n",
    "# import local copy of cvxpower\n",
    "import os\n",
    "import sys\n",
    "sys.path.insert(0, os.path.abspath('../'))\n",
    "from cvxpower import *\n",
    "\n",
    "matplotlib.rc(\"figure\", figsize=(16,6))\n",
    "matplotlib.rc(\"lines\", linewidth=2)\n",
    "matplotlib.rc(\"font\", serif='Computer Modern Roman')\n",
    "\n",
    "graphdir = '../fig/'\n",
    "figsize=(10,2)"
   ]
  },
  {
   "cell_type": "markdown",
   "metadata": {},
   "source": [
    "## Load data"
   ]
  },
  {
   "cell_type": "code",
   "execution_count": 2,
   "metadata": {},
   "outputs": [],
   "source": [
    "data = pd.read_excel('HistoricalEMSHourlyLoad_2014-2016.xlsx', index_col=0, parse_dates=[0])"
   ]
  },
  {
   "cell_type": "code",
   "execution_count": 3,
   "metadata": {},
   "outputs": [
    {
     "data": {
      "text/html": [
       "<div>\n",
       "<style scoped>\n",
       "    .dataframe tbody tr th:only-of-type {\n",
       "        vertical-align: middle;\n",
       "    }\n",
       "\n",
       "    .dataframe tbody tr th {\n",
       "        vertical-align: top;\n",
       "    }\n",
       "\n",
       "    .dataframe thead th {\n",
       "        text-align: right;\n",
       "    }\n",
       "</style>\n",
       "<table border=\"1\" class=\"dataframe\">\n",
       "  <thead>\n",
       "    <tr style=\"text-align: right;\">\n",
       "      <th></th>\n",
       "      <th>Date</th>\n",
       "      <th>HE</th>\n",
       "      <th>PGE</th>\n",
       "      <th>SCE</th>\n",
       "      <th>SDGE</th>\n",
       "      <th>VEA</th>\n",
       "      <th>CAISO Total</th>\n",
       "    </tr>\n",
       "    <tr>\n",
       "      <th>Dates</th>\n",
       "      <th></th>\n",
       "      <th></th>\n",
       "      <th></th>\n",
       "      <th></th>\n",
       "      <th></th>\n",
       "      <th></th>\n",
       "      <th></th>\n",
       "    </tr>\n",
       "  </thead>\n",
       "  <tbody>\n",
       "    <tr>\n",
       "      <th>2014-01-01 00:00:00</th>\n",
       "      <td>2014-01-01</td>\n",
       "      <td>1</td>\n",
       "      <td>10057</td>\n",
       "      <td>9862</td>\n",
       "      <td>2096</td>\n",
       "      <td>58</td>\n",
       "      <td>22073</td>\n",
       "    </tr>\n",
       "    <tr>\n",
       "      <th>2014-01-01 01:00:00</th>\n",
       "      <td>2014-01-01</td>\n",
       "      <td>2</td>\n",
       "      <td>9707</td>\n",
       "      <td>9530</td>\n",
       "      <td>1986</td>\n",
       "      <td>59</td>\n",
       "      <td>21283</td>\n",
       "    </tr>\n",
       "    <tr>\n",
       "      <th>2014-01-01 02:00:00</th>\n",
       "      <td>2014-01-01</td>\n",
       "      <td>3</td>\n",
       "      <td>9438</td>\n",
       "      <td>9200</td>\n",
       "      <td>1936</td>\n",
       "      <td>61</td>\n",
       "      <td>20635</td>\n",
       "    </tr>\n",
       "    <tr>\n",
       "      <th>2014-01-01 03:00:00</th>\n",
       "      <td>2014-01-01</td>\n",
       "      <td>4</td>\n",
       "      <td>9309</td>\n",
       "      <td>9015</td>\n",
       "      <td>1896</td>\n",
       "      <td>64</td>\n",
       "      <td>20283</td>\n",
       "    </tr>\n",
       "    <tr>\n",
       "      <th>2014-01-01 04:00:00</th>\n",
       "      <td>2014-01-01</td>\n",
       "      <td>5</td>\n",
       "      <td>9319</td>\n",
       "      <td>8987</td>\n",
       "      <td>1899</td>\n",
       "      <td>67</td>\n",
       "      <td>20271</td>\n",
       "    </tr>\n",
       "  </tbody>\n",
       "</table>\n",
       "</div>"
      ],
      "text/plain": [
       "                          Date  HE    PGE   SCE  SDGE  VEA  CAISO Total\n",
       "Dates                                                                  \n",
       "2014-01-01 00:00:00 2014-01-01   1  10057  9862  2096   58        22073\n",
       "2014-01-01 01:00:00 2014-01-01   2   9707  9530  1986   59        21283\n",
       "2014-01-01 02:00:00 2014-01-01   3   9438  9200  1936   61        20635\n",
       "2014-01-01 03:00:00 2014-01-01   4   9309  9015  1896   64        20283\n",
       "2014-01-01 04:00:00 2014-01-01   5   9319  8987  1899   67        20271"
      ]
     },
     "execution_count": 3,
     "metadata": {},
     "output_type": "execute_result"
    }
   ],
   "source": [
    "data.head()"
   ]
  },
  {
   "cell_type": "code",
   "execution_count": 22,
   "metadata": {},
   "outputs": [],
   "source": [
    "norcal = data['PGE']/1000#000. # in TWh\n",
    "la = data['SCE']/1000#000.  # in TWh\n",
    "socal = data['SDGE']/1000#000.  # in TWh"
   ]
  },
  {
   "cell_type": "code",
   "execution_count": 23,
   "metadata": {},
   "outputs": [
    {
     "data": {
      "text/plain": [
       "<matplotlib.legend.Legend at 0xb244435f8>"
      ]
     },
     "execution_count": 23,
     "metadata": {},
     "output_type": "execute_result"
    },
    {
     "data": {
      "image/png": "[encoded data removed]",
      "text/plain": [
       "<matplotlib.figure.Figure at 0xb24464eb8>"
      ]
     },
     "metadata": {},
     "output_type": "display_data"
    }
   ],
   "source": [
    "norcal.plot(alpha=.3)\n",
    "la.plot(alpha=.3)\n",
    "socal.plot(alpha=.3)\n",
    "plt.ylabel('GW')\n",
    "plt.legend()"
   ]
  },
  {
   "cell_type": "markdown",
   "metadata": {},
   "source": [
    "## Approximate solar generator profile "
   ]
  },
  {
   "cell_type": "code",
   "execution_count": 233,
   "metadata": {},
   "outputs": [],
   "source": [
    "T = 24 * 365 #24 * 7 * 4\n",
    "timedeltas = (norcal.index[:T] - pd.datetime(2014,1,1))\n",
    "seconds = pd.Series(index=norcal.index[:T], \n",
    "                    data=pd.to_datetime(np.array(timedeltas)).astype(int)*1E-9)\n",
    "#seconds.plot()"
   ]
  },
  {
   "cell_type": "code",
   "execution_count": 234,
   "metadata": {},
   "outputs": [],
   "source": [
    "annual_profile = (.3 + pd.Series(index = norcal[:T].index, data= \n",
    "          np.maximum(np.cos(2 * np.pi * seconds / (24*3600*365)  + np.pi) + 1.,0.))/2.5)\n",
    "#annual_profile.plot()"
   ]
  },
  {
   "cell_type": "code",
   "execution_count": 235,
   "metadata": {},
   "outputs": [
    {
     "data": {
      "text/plain": [
       "<matplotlib.axes._subplots.AxesSubplot at 0xd6f547c18>"
      ]
     },
     "execution_count": 235,
     "metadata": {},
     "output_type": "execute_result"
    },
    {
     "data": {
      "image/png": "[encoded data removed]",
      "text/plain": [
       "<matplotlib.figure.Figure at 0xd6f9ab4a8>"
      ]
     },
     "metadata": {},
     "output_type": "display_data"
    }
   ],
   "source": [
    "power_max_profile = pd.Series(index = norcal[:T].index, \n",
    "                              data=np.maximum(np.cos(2 * np.pi * seconds / (24*3600)  + np.pi),0.))\n",
    "\n",
    "power_max_profile *= annual_profile\n",
    "\n",
    "power_max_profile.plot()"
   ]
  },
  {
   "cell_type": "markdown",
   "metadata": {},
   "source": [
    "## Define grid "
   ]
  },
  {
   "cell_type": "markdown",
   "metadata": {},
   "source": [
    "#### Devices "
   ]
  },
  {
   "cell_type": "code",
   "execution_count": 236,
   "metadata": {},
   "outputs": [],
   "source": [
    "###\n",
    "## units are GW / GWh .\n",
    "## \n",
    "###\n",
    "\n",
    "load_norcal = FixedLoad(power=np.matrix(norcal[:T]).T, name='norcal load')\n",
    "load_la = FixedLoad(power=np.matrix(la[:T]).T, name='la load')\n",
    "load_socal = FixedLoad(power=np.matrix(socal[:T]).T, name='socal load')\n",
    "\n",
    "# storage_norcal = Storage(discharge_max=norcal.mean(), \n",
    "#                          charge_max=norcal.mean(), \n",
    "#                          energy_max=norcal.mean()*2, \n",
    "#                         energy_init= norcal.mean(),\n",
    "#                          energy_final=norcal.mean(),\n",
    "#                         name='norcal_storage')\n",
    "# storage_la = Storage(discharge_max=la.mean()/2, \n",
    "#                          charge_max=la.mean()/2, \n",
    "#                          energy_max=la.mean(), \n",
    "#                         energy_init= la.mean()/2,\n",
    "#                          energy_final=la.mean()/2,\n",
    "#                         name='la_storage')\n",
    "# storage_socal = Storage(discharge_max=socal.mean(), \n",
    "#                          charge_max=socal.mean()/2, \n",
    "#                          energy_max=socal.mean(), \n",
    "#                         energy_init= socal.mean()/2,\n",
    "#                          energy_final=socal.mean()/2,\n",
    "#                         name='socal_storage')\n",
    "\n",
    "max_total_load = (norcal + socal + la).max()\n",
    "mean_total_load = (norcal + socal + la).mean()\n",
    "\n",
    "storage_central = Storage(energy_init=mean_total_load,\n",
    "                          energy_final=mean_total_load,\n",
    "                          discharge_max=mean_total_load, \n",
    "                          charge_max=mean_total_load, \n",
    "                          energy_max=mean_total_load*6, \n",
    "                          name='central_storage')\n",
    "\n",
    "gen = Generator(power_min=0., power_max = max_total_load*2., alpha=1., \n",
    "                beta=80000.)\n",
    "solar = Generator(power_max=np.matrix(3 * mean_total_load * power_max_profile).T,\n",
    "                power_min = 0.,\n",
    "                alpha=0., beta=.0) ## todo get solar profile\n",
    "\n",
    "trans_norcal = TransmissionLine()#power_max=15)\n",
    "trans_la = TransmissionLine()#power_max=15)\n",
    "trans_socal = TransmissionLine()#power_max=8)"
   ]
  },
  {
   "cell_type": "code",
   "execution_count": 237,
   "metadata": {},
   "outputs": [
    {
     "data": {
      "text/plain": [
       "<matplotlib.legend.Legend at 0xd6f9c7828>"
      ]
     },
     "execution_count": 237,
     "metadata": {},
     "output_type": "execute_result"
    },
    {
     "data": {
      "image/png": "[encoded data removed]",
      "text/plain": [
       "<matplotlib.figure.Figure at 0xd88af02b0>"
      ]
     },
     "metadata": {},
     "output_type": "display_data"
    }
   ],
   "source": [
    "norcal[:T].plot()\n",
    "la[:T].plot()\n",
    "socal[:T].plot()\n",
    "plt.legend()"
   ]
  },
  {
   "cell_type": "markdown",
   "metadata": {},
   "source": [
    "#### Network "
   ]
  },
  {
   "cell_type": "code",
   "execution_count": null,
   "metadata": {
    "scrolled": false
   },
   "outputs": [],
   "source": [
    "norcal_net = Net([load_norcal.terminals[0], trans_norcal.terminals[0], \n",
    "                 # storage_norcal.terminals[0]\n",
    "                 ])\n",
    "la_net = Net([load_la.terminals[0], trans_la.terminals[0],\n",
    "             # storage_la.terminals[0]\n",
    "             ])\n",
    "socal_net = Net([load_socal.terminals[0], trans_socal.terminals[0], \n",
    "                # storage_socal.terminals[0]\n",
    "                ])\n",
    "\n",
    "gen_net = Net([gen.terminals[0], \n",
    "               solar.terminals[0],\n",
    "               trans_norcal.terminals[1],\n",
    "                trans_la.terminals[1],\n",
    "               trans_socal.terminals[1],\n",
    "               storage_central.terminals[0]\n",
    "              ])\n",
    "\n",
    "network = Group([load_norcal,\n",
    "                 load_la,\n",
    "                 load_socal,\n",
    "                 gen, \n",
    "                 # storage_norcal,\n",
    "                 #storage_la,\n",
    "                # storage_socal,\n",
    "                storage_central,\n",
    "                trans_norcal,\n",
    "                trans_la,\n",
    "                trans_socal,\n",
    "                 solar\n",
    "                ], \n",
    "                [norcal_net, gen_net, la_net, socal_net\n",
    "                ])\n",
    "\n",
    "\n",
    "network.init_problem(time_horizon=T)\n",
    "network.problem.solve(verbose=True, solver='ECOS')"
   ]
  },
  {
   "cell_type": "code",
   "execution_count": null,
   "metadata": {},
   "outputs": [],
   "source": [
    "fig = network.results.plot(norcal[:T].index, figsize=(18, 10))\n",
    "(-power_max).plot(ax=fig[0], label='power_max')\n",
    "#plt.legend()\n",
    "\n",
    "fig, ax = plt.subplots(nrows=1, ncols=1, figsize=(16,3))\n",
    "# ax.plot(norcal[:T+1].index, storage_norcal.energy.value, label='storage norcal')\n",
    "# ax.plot(norcal[:T+1].index ,storage_la.energy.value, label='storage la')\n",
    "# ax.plot(norcal[:T+1].index, storage_socal.energy.value, label='storage socal')\n",
    "ax.plot(norcal[:T+1].index, storage_central.energy.value, '.-', label='storage central')\n",
    "ax.plot(norcal[:T+1].index, [storage_central.energy_max]*(T+1), '--', label='storage max')\n",
    "\n",
    "\n",
    "ax.legend()\n",
    "\n",
    "ax.set_ylabel(\"stored energy\")"
   ]
  },
  {
   "cell_type": "code",
   "execution_count": null,
   "metadata": {},
   "outputs": [],
   "source": [
    "pd.Series(index=norcal.index[:T], data=gen.terminals[0].power_var.value.flatten()).plot(alpha=.5)\n",
    "pd.Series(index=norcal.index[:T], data=solar.terminals[0].power_var.value.flatten()).plot(alpha=.5)"
   ]
  },
  {
   "cell_type": "code",
   "execution_count": null,
   "metadata": {},
   "outputs": [],
   "source": [
    "print('Mean solar power %.2fGW' %(-np.mean(solar.terminals[0].power_var.value)))\n",
    "print('Mean gas power %.2fGW' %(-np.mean(gen.terminals[0].power_var.value)))"
   ]
  },
  {
   "cell_type": "code",
   "execution_count": null,
   "metadata": {},
   "outputs": [],
   "source": []
  }
 ],
 "metadata": {
  "kernelspec": {
   "display_name": "Python 3",
   "language": "python",
   "name": "python3"
  },
  "language_info": {
   "codemirror_mode": {
    "name": "ipython",
    "version": 3
   },
   "file_extension": ".py",
   "mimetype": "text/x-python",
   "name": "python",
   "nbconvert_exporter": "python",
   "pygments_lexer": "ipython3",
   "version": "3.6.4"
  }
 },
 "nbformat": 4,
 "nbformat_minor": 1
}
