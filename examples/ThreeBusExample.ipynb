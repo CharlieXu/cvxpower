{
 "cells": [
  {
   "cell_type": "code",
   "execution_count": 1,
   "metadata": {},
   "outputs": [],
   "source": [
    "# to import a local copy of dem\n",
    "import os\n",
    "import sys\n",
    "sys.path.insert(0, os.path.abspath('../../dem'))\n",
    "\n",
    "from cvxpower import *\n",
    "\n",
    "%matplotlib inline\n",
    "import matplotlib.pyplot as plt\n",
    "import numpy as np\n",
    "#from config import *"
   ]
  },
  {
   "cell_type": "code",
   "execution_count": 2,
   "metadata": {},
   "outputs": [
    {
     "data": {
      "image/png": "[encoded data removed]",
      "text/plain": [
       "<Figure size 432x288 with 1 Axes>"
      ]
     },
     "metadata": {
      "needs_background": "light"
     },
     "output_type": "display_data"
    }
   ],
   "source": [
    "alpha1, beta1, pmax1 = 0.01, 100, 1000\n",
    "alpha2, beta2, pmax2 = 0.1, 0.1, 100\n",
    "\n",
    "#plt.figure(figsize=FIGREGULAR)\n",
    "xs = np.linspace(0,20)\n",
    "plt.plot(xs, alpha1*xs**2 + beta1*xs, label=r'$f_{\\rm gen1}$')\n",
    "plt.plot(xs, alpha2*xs**2 + beta2*xs, label=r'$f_{\\rm gen2}$')\n",
    "plt.legend()\n",
    "plt.xlabel(r'$p$')\n",
    "plt.xlim([0, 10])\n",
    "plt.ylim([0, min(pmax1, pmax2)])\n",
    "plt.savefig(\"three_bus_gen_cost.pdf\")"
   ]
  },
  {
   "cell_type": "code",
   "execution_count": 3,
   "metadata": {},
   "outputs": [
    {
     "name": "stdout",
     "output_type": "stream",
     "text": [
      "{<cvxpower.devices.TransmissionLine object at 0xa6c5830c>: 0, <cvxpower.devices.TransmissionLine object at 0xa6c5802c>: 0, <cvxpower.devices.FixedLoad object at 0xa6c0304c>: 0, <cvxpower.devices.Generator object at 0xa6c58a6c>: 0, <cvxpower.devices.Generator object at 0xa6c585ac>: 0, <cvxpower.devices.FixedLoad object at 0xa6c03a2c>: 0, <cvxpower.devices.TransmissionLine object at 0xa6c58eec>: 0}\n",
      "Status: optimal\n",
      "Terminal                  Power\n",
      "--------                  -----\n",
      "load1[0]                  50.00\n",
      "gen2[0]                  -60.00\n",
      "gen1[0]                  -92.63\n",
      "line3[1]                  50.00\n",
      "line2[1]                  10.00\n",
      "line3[0]                 -50.00\n",
      "line1[1]                 -50.00\n",
      "line2[0]                 -10.00\n",
      "line1[0]                  52.63\n",
      "load2[0]                 100.00\n",
      "\n",
      "Net                       Price\n",
      "---                       -----\n",
      "net3                    12.0988\n",
      "net1                   101.8528\n",
      "net2                   112.8717\n",
      "\n",
      "Device                  Payment\n",
      "------                  -------\n",
      "line2                   -897.54\n",
      "line3                  -5038.65\n",
      "load2                  11287.17\n",
      "gen1                   -9434.97\n",
      "gen2                    -725.93\n",
      "load1                   5092.64\n",
      "line1                   -282.72\n",
      "\n",
      "All values above are averages over the time horizon.\n",
      "\n"
     ]
    }
   ],
   "source": [
    "load1 = FixedLoad(power=50, name=\"load1\")\n",
    "load2 = FixedLoad(power=100, name=\"load2\")\n",
    "\n",
    "gen1 = Generator(power_max=1000,\n",
    "  alpha=0.01, beta=100, name=\"gen1\")\n",
    "gen2 = Generator(power_max=100, alpha=0.1,\n",
    "  beta=0.1, name=\"gen2\")\n",
    "\n",
    "line1 = TransmissionLine(power_max=50, name = 'line1', alpha=0.001)\n",
    "#line1 = TransmissionLine(name = 'line1', alpha=0.001)\n",
    "line2 = TransmissionLine(power_max=10, name = 'line2')\n",
    "line3 = TransmissionLine(power_max=50, name = 'line3')\n",
    "\n",
    "net1 = Net([load1.terminals[0],\n",
    "    gen1.terminals[0], line1.terminals[0],\n",
    "    line2.terminals[0]], name = 'net1')\n",
    "net2 = Net([load2.terminals[0], line1.terminals[1], \n",
    "    line3.terminals[0]], name = 'net2')\n",
    "net3 = Net([gen2.terminals[0], line2.terminals[1], \n",
    "    line3.terminals[1]], name = 'net3')\n",
    "network = Group([load1, load2, gen1, gen2,\n",
    "    line1, line2, line3],\n",
    "    [net1, net2, net3])\n",
    "\n",
    "network.init_problem()\n",
    "network.optimize()\n",
    "print(network.results.summary())"
   ]
  },
  {
   "cell_type": "code",
   "execution_count": null,
   "metadata": {},
   "outputs": [],
   "source": []
  }
 ],
 "metadata": {
  "kernelspec": {
   "display_name": "Python [default]",
   "language": "python",
   "name": "python3"
  },
  "language_info": {
   "codemirror_mode": {
    "name": "ipython",
    "version": 3
   },
   "file_extension": ".py",
   "mimetype": "text/x-python",
   "name": "python",
   "nbconvert_exporter": "python",
   "pygments_lexer": "ipython3",
   "version": "3.5.6"
  }
 },
 "nbformat": 4,
 "nbformat_minor": 2
}
