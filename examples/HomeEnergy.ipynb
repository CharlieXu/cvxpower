{
 "cells": [
  {
   "cell_type": "code",
   "execution_count": 1,
   "metadata": {
    "attributes": {
     "classes": [],
     "id": "",
     "n": "1"
    }
   },
   "outputs": [],
   "source": [
    "import matplotlib\n",
    "matplotlib.rc(\"lines\", linewidth=2)\n",
    "matplotlib.rc('text', usetex=True)\n",
    "matplotlib.rc(\"font\", family=\"serif\", serif='cmr10')"
   ]
  },
  {
   "cell_type": "code",
   "execution_count": 2,
   "metadata": {
    "attributes": {
     "classes": [],
     "id": "",
     "n": "2"
    }
   },
   "outputs": [],
   "source": [
    "import numpy as np\n",
    "import matplotlib.pyplot as plt\n",
    "from cvxpower import *"
   ]
  },
  {
   "cell_type": "code",
   "execution_count": 3,
   "metadata": {
    "attributes": {
     "classes": [],
     "id": "",
     "n": "4"
    }
   },
   "outputs": [
    {
     "name": "stderr",
     "output_type": "stream",
     "text": [
      "/home/nick/software/anaconda3/lib/python3.5/site-packages/cvxpy-1.0.8-py3.5-linux-i686.egg/cvxpy/problems/problem.py:614: RuntimeWarning: overflow encountered in long_scalars\n",
      "  if self.max_big_small_squared < big*small**2:\n",
      "/home/nick/software/anaconda3/lib/python3.5/site-packages/cvxpy-1.0.8-py3.5-linux-i686.egg/cvxpy/problems/problem.py:615: RuntimeWarning: overflow encountered in long_scalars\n",
      "  self.max_big_small_squared = big*small**2\n"
     ]
    },
    {
     "name": "stdout",
     "output_type": "stream",
     "text": [
      "\n",
      "ECOS 2.0.4 - (C) embotech GmbH, Zurich Switzerland, 2012-15. Web: www.embotech.com/ECOS\n",
      "\n",
      "It     pcost       dcost      gap   pres   dres    k/t    mu     step   sigma     IR    |   BT\n",
      " 0  +1.120e-16  -3.085e+04  +7e+04  3e-01  4e-01  1e+00  6e+00    ---    ---    1  1  - |  -  - \n",
      " 1  +6.087e+00  -8.749e+03  +3e+04  8e-02  2e-02  2e+00  3e+00  0.7181  2e-01   1  1  1 |  0  0\n",
      " 2  +9.733e+00  -1.488e+03  +6e+03  1e-02  8e-03  4e-01  6e-01  0.9890  2e-01   1  1  1 |  0  0\n",
      " 3  +1.015e+01  -4.275e+01  +2e+02  4e-04  2e-03  1e-02  2e-02  0.9659  4e-03   1  1  1 |  0  0\n",
      " 4  +4.571e+00  -2.036e+00  +3e+01  6e-05  5e-04  1e-03  3e-03  0.8856  2e-02   1  1  1 |  0  0\n",
      " 5  +3.318e+00  +5.057e-01  +1e+01  2e-05  2e-04  5e-04  1e-03  0.6891  2e-01   1  1  1 |  0  0\n",
      " 6  +2.967e+00  +1.512e+00  +7e+00  1e-05  1e-04  2e-04  6e-04  0.6140  2e-01   1  1  1 |  0  0\n",
      " 7  +2.960e+00  +1.524e+00  +7e+00  1e-05  1e-04  2e-04  6e-04  0.0691  8e-01   1  1  1 |  0  0\n",
      " 8  +2.828e+00  +2.001e+00  +4e+00  7e-06  8e-05  1e-04  4e-04  0.6945  4e-01   1  1  1 |  0  0\n",
      " 9  +2.751e+00  +2.332e+00  +2e+00  4e-06  4e-05  4e-05  2e-04  0.7800  4e-01   1  1  1 |  0  0\n",
      "10  +2.709e+00  +2.570e+00  +7e-01  1e-06  1e-05  1e-05  6e-05  0.7106  6e-02   1  1  1 |  0  0\n",
      "11  +2.700e+00  +2.615e+00  +4e-01  7e-07  8e-06  7e-06  4e-05  0.9890  6e-01   1  1  1 |  0  0\n",
      "12  +2.692e+00  +2.667e+00  +1e-01  2e-07  2e-06  2e-06  1e-05  0.7871  1e-01   1  1  1 |  0  0\n",
      "13  +2.691e+00  +2.674e+00  +8e-02  1e-07  2e-06  1e-06  7e-06  0.5871  4e-01   1  1  1 |  0  0\n",
      "14  +2.689e+00  +2.687e+00  +1e-02  2e-08  2e-07  2e-07  1e-06  0.9636  1e-01   1  1  1 |  0  0\n",
      "15  +2.689e+00  +2.688e+00  +3e-03  5e-09  6e-08  5e-08  3e-07  0.8870  2e-01   1  1  1 |  0  0\n",
      "16  +2.689e+00  +2.689e+00  +1e-03  2e-09  2e-08  2e-08  1e-07  0.7763  2e-01   1  1  1 |  0  0\n",
      "17  +2.689e+00  +2.689e+00  +2e-04  3e-10  3e-09  3e-09  1e-08  0.9890  1e-01   1  1  1 |  0  0\n",
      "18  +2.689e+00  +2.689e+00  +3e-05  6e-11  6e-10  5e-10  3e-09  0.8452  7e-02   1  2  2 |  0  0\n",
      "19  +2.689e+00  +2.689e+00  +1e-05  2e-11  3e-10  2e-10  1e-09  0.9890  4e-01   1  2  2 |  0  0\n",
      "20  +2.689e+00  +2.689e+00  +1e-06  2e-12  3e-11  2e-11  1e-10  0.9123  4e-03   2  2  2 |  0  0\n",
      "21  +2.689e+00  +2.689e+00  +2e-07  8e-13  4e-12  4e-12  2e-11  0.9890  2e-01   2  2  2 |  0  0\n",
      "22  +2.689e+00  +2.689e+00  +1e-08  5e-14  4e-13  2e-13  1e-12  0.9474  2e-02   3  3  3 |  0  0\n",
      "\n",
      "OPTIMAL (within feastol=3.9e-13, reltol=5.3e-09, abstol=1.4e-08).\n",
      "Runtime: 0.773595 seconds.\n",
      "\n"
     ]
    },
    {
     "data": {
      "text/plain": [
       "Status: optimal\n",
       "Terminal                  Power\n",
       "--------                  -----\n",
       "def. load[0]               0.83\n",
       "storage[0]                 0.00\n",
       "generator[0]              -1.42\n",
       "fixed load[0]              0.59\n",
       "\n",
       "Net                       Price\n",
       "---                       -----\n",
       "Net                      0.0024\n",
       "\n",
       "Terminal                Payment\n",
       "--------                  -----\n",
       "def. load[0]               0.00\n",
       "storage[0]                -0.00\n",
       "generator[0]              -0.00\n",
       "fixed load[0]              0.00\n",
       "\n",
       "All values above are averages over the time horizon."
      ]
     },
     "execution_count": 3,
     "metadata": {},
     "output_type": "execute_result"
    }
   ],
   "source": [
    "periods_per_hour = 60\n",
    "T = 24*periods_per_hour\n",
    "len_interval=1/periods_per_hour\n",
    "p_load = np.array([\n",
    "  0.51474725,\n",
    "  0.47401232,\n",
    "  0.46804122,\n",
    "  0.47140148,\n",
    "  0.51735674,\n",
    "  0.63193182,\n",
    "  0.80121667,\n",
    "  0.74983225,\n",
    "  0.71661753,\n",
    "  0.74235491,\n",
    "  0.73155551,\n",
    "  0.70865584,\n",
    "  0.67823632,\n",
    "  0.66232903,\n",
    "  0.68180769,\n",
    "  0.77185203,\n",
    "  0.94758236,\n",
    "  1.0033142 ,\n",
    "  1.02072008,\n",
    "  1.16801152,\n",
    "  1.30939302,\n",
    "  1.11789843,\n",
    "  0.8708018 ,\n",
    "  0.62076654 ])\n",
    "N = p_load.size\n",
    "p_load = np.interp(np.arange(T), np.linspace(0,T,N), p_load)\n",
    "p_load = p_load / np.max(p_load)\n",
    "\n",
    "load = FixedLoad(power=p_load, name='fixed load')\n",
    "gen = Generator(power_max=6, alpha=.05*len_interval, beta=0, name=\"generator\")\n",
    "deferrable = DeferrableLoad(time_start=8*periods_per_hour, time_end=20*periods_per_hour, energy=20, \n",
    "                            power_max=5, len_interval=len_interval, name=\"def. load\")\n",
    "storage = Storage(discharge_max=2, charge_max=2, energy_max=5, len_interval=len_interval, name='storage')\n",
    "net = Net([gen.terminals[0], deferrable.terminals[0],\n",
    "           load.terminals[0], storage.terminals[0]])\n",
    "\n",
    "network = Group([gen, deferrable, load, storage], [net])\n",
    "network.optimize(time_horizon=T, verbose=True, solver=\"ECOS\")"
   ]
  },
  {
   "cell_type": "code",
   "execution_count": 4,
   "metadata": {},
   "outputs": [
    {
     "name": "stdout",
     "output_type": "stream",
     "text": [
      "generator :  -5.37762687293174\n",
      "def. load :  3.738830277931505\n",
      "fixed load :  2.037448807937827\n",
      "storage :  -0.3986522129375927\n"
     ]
    }
   ],
   "source": [
    "for d in network.devices:\n",
    "    for t in d.terminals:\n",
    "        print(d.name, ': ', t.payment.sum())"
   ]
  },
  {
   "cell_type": "code",
   "execution_count": 5,
   "metadata": {
    "attributes": {
     "classes": [],
     "id": "",
     "n": "19"
    }
   },
   "outputs": [
    {
     "data": {
      "image/png": "[encoded data removed]",
      "text/plain": [
       "<Figure size 648x432 with 3 Axes>"
      ]
     },
     "metadata": {
      "needs_background": "light"
     },
     "output_type": "display_data"
    }
   ],
   "source": [
    "plt.figure(figsize=(9,6))\n",
    "\n",
    "ticks = [t*periods_per_hour for t in [4,8,12,16,20]]\n",
    "plt.subplot(211)\n",
    "i = network.results.power.items()\n",
    "for (d, pd) in i:\n",
    "    plt.plot(pd)\n",
    "plt.legend([d[0].name for (d,pd) in i], loc='upper left')\n",
    "plt.ylabel(\"Power (kW)\")\n",
    "plt.xlim([0,T])\n",
    "#.ylim([-2,4.5])\n",
    "plt.xticks(ticks,('', '', '', '', ''))\n",
    "\n",
    "plt.subplot(413)\n",
    "plt.plot(list(network.results.price.items())[0][1])\n",
    "plt.ylabel(\"Price (\\$)\")\n",
    "plt.xlim([0,T])\n",
    "plt.xticks(ticks,('', '', '', '', ''))\n",
    "\n",
    "plt.subplot(414)\n",
    "plt.plot(storage.energy.value)\n",
    "plt.ylabel(\"Energy (kWh)\")\n",
    "plt.xlabel(\"time of day\")\n",
    "plt.xlim([0,T])\n",
    "plt.subplots_adjust(hspace=.1)\n",
    "\n",
    "plt.xticks(ticks, ('4:00', '8:00', '12:00', '16:00', '20:00'))\n",
    "\n",
    "plt.savefig(\"home_energy_results.pdf\")"
   ]
  }
 ],
 "metadata": {
  "anaconda-cloud": {},
  "kernelspec": {
   "display_name": "Python [conda env:anaconda3]",
   "language": "python",
   "name": "conda-env-anaconda3-py"
  },
  "language_info": {
   "codemirror_mode": {
    "name": "ipython",
    "version": 3
   },
   "file_extension": ".py",
   "mimetype": "text/x-python",
   "name": "python",
   "nbconvert_exporter": "python",
   "pygments_lexer": "ipython3",
   "version": "3.5.6"
  }
 },
 "nbformat": 4,
 "nbformat_minor": 2
}
