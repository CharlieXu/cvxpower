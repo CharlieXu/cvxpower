{
 "cells": [
  {
   "cell_type": "markdown",
   "metadata": {},
   "source": [
    "# Wind farm integration\n",
    "\n",
    "An example of a wind farm offering firm power by estimating the expected wind resource and then using a MPC to jointly optimize control of a small gas turbine and storage."
   ]
  },
  {
   "cell_type": "code",
   "execution_count": 1,
   "metadata": {},
   "outputs": [],
   "source": [
    "%matplotlib inline\n",
    "import datetime\n",
    "import pandas as pd\n",
    "import matplotlib\n",
    "import numpy as np\n",
    "import cvxpy as cvx\n",
    "from matplotlib import pyplot as plt\n",
    "\n",
    "# import local copy of cvxpower\n",
    "import os\n",
    "import sys\n",
    "from cvxpower import *\n",
    "\n",
    "matplotlib.rc(\"figure\", figsize=(16,6))\n",
    "matplotlib.rc(\"lines\", linewidth=2)\n",
    "#matplotlib.rc(\"font\", serif='Computer Modern Roman')\n",
    "matplotlib.rcParams['mathtext.fontset'] = 'cm'\n",
    "matplotlib.rc('font', **{'family': 'serif', 'serif': ['Computer Modern']})\n",
    "matplotlib.rc('text', usetex=True)\n",
    "\n",
    "graphdir = './'\n",
    "figsize=(8,5)"
   ]
  },
  {
   "cell_type": "markdown",
   "metadata": {},
   "source": [
    "## TODOs\n",
    "\n",
    "- keep simplifying the code. it must become much easier to read!\n",
    "- make a cell at the start with ALL the constants/parameters and their units!\n",
    "- make better plot/comparisons\n",
    "- test on two separate weeks? or on the whole year..."
   ]
  },
  {
   "cell_type": "markdown",
   "metadata": {},
   "source": [
    "## Load predictive model "
   ]
  },
  {
   "cell_type": "code",
   "execution_count": 2,
   "metadata": {},
   "outputs": [],
   "source": [
    "baseline = pd.read_pickle('wind_baseline.pickle')\n",
    "autoreg_residual_params = pd.read_pickle('residual_params.pickle')\n",
    "sigma_residual_errors = pd.read_pickle('sigma_epsilon.pickle')\n",
    "train = pd.read_pickle('wind_power_train.pickle')\n",
    "test = pd.read_pickle('wind_power_test.pickle')\n",
    "p_wind = pd.concat([train,test])\n",
    "del train\n",
    "del test"
   ]
  },
  {
   "cell_type": "markdown",
   "metadata": {},
   "source": [
    "## Set constants and test period"
   ]
  },
  {
   "cell_type": "code",
   "execution_count": 13,
   "metadata": {},
   "outputs": [
    {
     "data": {
      "image/png": "[encoded data removed]",
      "text/plain": [
       "<Figure size 576x216 with 1 Axes>"
      ]
     },
     "metadata": {
      "needs_background": "light"
     },
     "output_type": "display_data"
    }
   ],
   "source": [
    "# CONSTANTS\n",
    "storage_capacity = 100 # MWh\n",
    "initial_storage = storage_capacity // 2\n",
    "battery_charge_max = storage_capacity /10. # a full charge in 10 hours\n",
    "battery_discharge_max = storage_capacity /10. # a full discharge in 10 hours\n",
    "wind_power_max = 16.  # TODO delete?\n",
    "wind_power_min = 0.  # TODO delete?\n",
    "\n",
    "gas_power_max = 12  #MW\n",
    "gas_power_min = 0.01 #MW\n",
    "gas_alpha = .1\n",
    "gas_beta = 20.\n",
    "\n",
    "# len of each time interval, in hours\n",
    "len_interval = (baseline.index[1] - baseline.index[0]).seconds/3600\n",
    "intervals_per_day = int(24 / len_interval)\n",
    "\n",
    "# analysis horizon\n",
    "T = intervals_per_day * 5\n",
    "\n",
    "# we test on the first off-sample month\n",
    "sim_start_time = 70080 # Timestamp('2012-01-01 00:00:00')\n",
    "sim_end_time = sim_start_time + T\n",
    "\n",
    "assert len(baseline) > sim_end_time\n",
    "assert baseline.index[sim_start_time].year >= 2012 # out of sample\n",
    "\n",
    "MPC_final_energy_price = 0 / len_interval\n",
    "\n",
    "#wind_power_available = test[target_output.index]\n",
    "\n",
    "target_output = pd.Series(data= 8., #baseline[sim_start_time:sim_end_time].mean(),\n",
    "                          index=baseline[sim_start_time:sim_start_time + 2*T].index)\n",
    "\n",
    "#p_wind[sim_start_time:sim_end_time].plot(figsize=(12,3), label='Wind power')\n",
    "plt.figure(figsize=(8,3))\n",
    "plt.subplot2grid((4,1), (0,0), rowspan=3)\n",
    "y = p_wind[sim_start_time:sim_end_time]\n",
    "plt.plot(y.index, y.values, label='Wind power')\n",
    "target_output[:T].plot(label='Target output')\n",
    "plt.gca().set_xlim(['01-01-2012', '01-31-2012'])\n",
    "plt.ylabel('power (MW)')\n",
    "plt.xlabel('time')\n",
    "\n",
    "plt.legend(loc='lower left')\n",
    "plt.savefig('wind_data.pdf')"
   ]
  },
  {
   "cell_type": "markdown",
   "metadata": {},
   "source": [
    "### Cost of MWh produced by gas turbine "
   ]
  },
  {
   "cell_type": "code",
   "execution_count": 14,
   "metadata": {},
   "outputs": [
    {
     "data": {
      "text/plain": [
       "Text(0, 0.5, '\\\\$ / MWh')"
      ]
     },
     "execution_count": 14,
     "metadata": {},
     "output_type": "execute_result"
    },
    {
     "data": {
      "image/png": "[encoded data removed]",
      "text/plain": [
       "<Figure size 432x288 with 1 Axes>"
      ]
     },
     "metadata": {
      "needs_background": "light"
     },
     "output_type": "display_data"
    }
   ],
   "source": [
    "def cost_per_unit(power):\n",
    "    return (gas_alpha * power**2 + gas_beta * power)/power\n",
    "\n",
    "x = np.arange(gas_power_min, gas_power_max, gas_power_max/10)\n",
    "plt.plot(x, cost_per_unit(x))\n",
    "plt.xlabel('MW')\n",
    "plt.ylabel('\\$ / MWh')"
   ]
  },
  {
   "cell_type": "markdown",
   "metadata": {},
   "source": [
    "## Prescient DOPF"
   ]
  },
  {
   "cell_type": "code",
   "execution_count": 15,
   "metadata": {},
   "outputs": [],
   "source": [
    "def make_network(T, K):\n",
    "    \"\"\"Define network and parameters for data.\"\"\"\n",
    "    target_output = Parameter((T,K))\n",
    "    wind_power_available = Parameter((T,K))\n",
    "    initial_storage = Parameter((1,1))\n",
    "    final_energy_price = Parameter((1,1))\n",
    "    final_storage = Parameter((1,1))\n",
    "    out = FixedLoad(power = target_output, name=\"Target output\")\n",
    "    #wind_gen = Generator(alpha=0, beta=0, power_min=0, \n",
    "    #                     power_max=wind_power_available, name=\"Wind generator\")\n",
    "    wind_gen = Generator(alpha=0, beta=0, power_min=wind_power_available, \n",
    "                         power_max=wind_power_available, name=\"Wind generator\")\n",
    "    gas_gen = Generator(alpha=gas_alpha, beta=gas_beta, \n",
    "                        power_min=gas_power_min, power_max=gas_power_max, name=\"Gas generator\",\n",
    "                       len_interval = len_interval)\n",
    "    storage = Storage(discharge_max=battery_discharge_max, charge_max=battery_charge_max, \n",
    "                      energy_max=storage_capacity, \n",
    "                      energy_init = initial_storage, \n",
    "                      energy_final = final_storage,\n",
    "                     len_interval = len_interval,\n",
    "                     final_energy_price = np.matrix(MPC_final_energy_price))\n",
    "    net = Net([wind_gen.terminals[0],\n",
    "               gas_gen.terminals[0],\n",
    "               storage.terminals[0],\n",
    "               out.terminals[0]])\n",
    "    dopf_network = Group([wind_gen, gas_gen, storage, out], [net])\n",
    "    dopf_network.init_problem(time_horizon=T, num_scenarios = K)\n",
    "    return target_output, wind_power_available, initial_storage, final_storage, final_energy_price, dopf_network"
   ]
  },
  {
   "cell_type": "code",
   "execution_count": 16,
   "metadata": {
    "scrolled": false
   },
   "outputs": [
    {
     "name": "stderr",
     "output_type": "stream",
     "text": [
      "/home/nick/software/anaconda3/lib/python3.5/site-packages/cvxpy-1.0.8-py3.5-linux-i686.egg/cvxpy/problems/problem.py:614: RuntimeWarning: overflow encountered in long_scalars\n",
      "  if self.max_big_small_squared < big*small**2:\n"
     ]
    }
   ],
   "source": [
    "target_output_par, wind_power_available_par, initial_storage_par, final_storage_par, final_energy_price, dopf_network = \\\n",
    "    make_network(T, 1)\n",
    "    \n",
    "target_output_par.value = np.matrix(target_output[:T]).T\n",
    "wind_power_available_par.value = np.matrix(p_wind[sim_start_time:sim_end_time]).T\n",
    "initial_storage_par.value = np.matrix(initial_storage)\n",
    "final_storage_par.value = np.matrix(initial_storage)\n",
    "final_energy_price.value = np.matrix(0.)\n",
    "\n",
    "cost_dopf = dopf_network.problem.solve(solver='ECOS', verbose=False)\n",
    "results_dopf = dopf_network.optimize(solver='ECOS', verbose=False, time_horizon=T)"
   ]
  },
  {
   "cell_type": "code",
   "execution_count": 17,
   "metadata": {},
   "outputs": [],
   "source": [
    "def print_and_plot_stats(wind_power_avail, wind_power_used, gas_power, output, cost):\n",
    "    assert len(output) == len(wind_power_avail)\n",
    "    assert len(output) == len(wind_power_used)\n",
    "    assert len(output) == len(gas_power)\n",
    "\n",
    "    plt.figure(figsize=(9,3.5))\n",
    "    plt.subplot2grid((10,1), (0,0), rowspan=9)\n",
    "    plt.plot(wind_power_avail.index, wind_power_avail.values, label='avail.', alpha=.8)\n",
    "    pd.Series(data = wind_power_used, \n",
    "              index = wind_power_avail.index).plot(label='used', alpha=.8)\n",
    "    #output.plot(label='target', style='--', color='k', alpha=.8)\n",
    "    plt.legend(loc='lower left')\n",
    "    plt.gca().set_xlim(['01-01-2012', '01-31-2012'])\n",
    "    plt.ylabel('Power (MW)')\n",
    "    plt.xlabel('time')\n",
    "    #plt.gcf().autofmt_xdate()\n",
    "    plt.savefig('wind_curtailment.pdf')\n",
    "\n",
    "    total_output = sum(output)/len(output) \n",
    "    total_wind_power_avail = sum(wind_power_avail)/len(output)\n",
    "    total_gas_gen = sum(gas_power)/len(output)\n",
    "\n",
    "    print('(Values are daily averages.)\\n')\n",
    "    print('Energy sold:\\t\\t%.2f MWh\\nWind energy avail.:\\t%.2f MWh\\nGas gener. output:\\t%.2f MWh\\nWind energy used:\\t%.2f MWh\\nWind energy lost:\\t%.2f MWh' % (\n",
    "        24*total_output,\n",
    "        24*total_wind_power_avail,\n",
    "        24*total_gas_gen,\n",
    "        24*np.mean(wind_power_used),\n",
    "        24*(total_wind_power_avail - np.mean(wind_power_used))\n",
    "    ))\n",
    "\n",
    "    print('Cost of gas generated energy:  $%.2f' % (24 / len_interval * cost / (len(output))))"
   ]
  },
  {
   "cell_type": "code",
   "execution_count": 18,
   "metadata": {},
   "outputs": [
    {
     "ename": "AttributeError",
     "evalue": "'NoneType' object has no attribute 'flatten'",
     "output_type": "error",
     "traceback": [
      "\u001b[0;31m---------------------------------------------------------------------------\u001b[0m",
      "\u001b[0;31mAttributeError\u001b[0m                            Traceback (most recent call last)",
      "\u001b[0;32m<ipython-input-18-71369e51474e>\u001b[0m in \u001b[0;36m<module>\u001b[0;34m()\u001b[0m\n\u001b[1;32m      2\u001b[0m \u001b[0;34m\u001b[0m\u001b[0m\n\u001b[1;32m      3\u001b[0m print_and_plot_stats(wind_power_avail = p_wind[sim_start_time:sim_end_time], \n\u001b[0;32m----> 4\u001b[0;31m                      \u001b[0mwind_power_used\u001b[0m \u001b[0;34m=\u001b[0m \u001b[0;34m-\u001b[0m\u001b[0mdopf_network\u001b[0m\u001b[0;34m.\u001b[0m\u001b[0mresults\u001b[0m\u001b[0;34m.\u001b[0m\u001b[0mpower\u001b[0m\u001b[0;34m[\u001b[0m\u001b[0;34m(\u001b[0m\u001b[0mwind_gen\u001b[0m\u001b[0;34m,\u001b[0m \u001b[0;36m0\u001b[0m\u001b[0;34m)\u001b[0m\u001b[0;34m]\u001b[0m\u001b[0;34m.\u001b[0m\u001b[0mflatten\u001b[0m\u001b[0;34m(\u001b[0m\u001b[0;34m)\u001b[0m\u001b[0;34m,\u001b[0m\u001b[0;34m\u001b[0m\u001b[0m\n\u001b[0m\u001b[1;32m      5\u001b[0m                      \u001b[0mgas_power\u001b[0m \u001b[0;34m=\u001b[0m \u001b[0;34m-\u001b[0m\u001b[0mdopf_network\u001b[0m\u001b[0;34m.\u001b[0m\u001b[0mresults\u001b[0m\u001b[0;34m.\u001b[0m\u001b[0mpower\u001b[0m\u001b[0;34m[\u001b[0m\u001b[0;34m(\u001b[0m\u001b[0mgas_gen\u001b[0m\u001b[0;34m,\u001b[0m\u001b[0;36m0\u001b[0m\u001b[0;34m)\u001b[0m\u001b[0;34m]\u001b[0m\u001b[0;34m,\u001b[0m\u001b[0;34m\u001b[0m\u001b[0m\n\u001b[1;32m      6\u001b[0m                      \u001b[0moutput\u001b[0m \u001b[0;34m=\u001b[0m \u001b[0mtarget_output\u001b[0m\u001b[0;34m[\u001b[0m\u001b[0;34m:\u001b[0m\u001b[0mT\u001b[0m\u001b[0;34m]\u001b[0m\u001b[0;34m,\u001b[0m\u001b[0;34m\u001b[0m\u001b[0m\n",
      "\u001b[0;31mAttributeError\u001b[0m: 'NoneType' object has no attribute 'flatten'"
     ]
    }
   ],
   "source": [
    "wind_gen, gas_gen, storage = dopf_network.devices[0:3]\n",
    "\n",
    "print_and_plot_stats(wind_power_avail = p_wind[sim_start_time:sim_end_time], \n",
    "                     wind_power_used = -dopf_network.results.power[(wind_gen, 0)].flatten(), \n",
    "                     gas_power = -dopf_network.results.power[(gas_gen,0)], \n",
    "                     output = target_output[:T], \n",
    "                     cost = cost_dopf)\n",
    "print(results_dopf)"
   ]
  },
  {
   "cell_type": "code",
   "execution_count": null,
   "metadata": {},
   "outputs": [],
   "source": [
    "def plot(results, target_output, energy_stored, methodname):\n",
    "    \n",
    "    fig, ax = plt.subplots(nrows=4, ncols=1, figsize=(9, 6))\n",
    "    plt.subplots_adjust(hspace=0.075)\n",
    "    \n",
    "    ax[0].set_ylabel('power (MW)')\n",
    "    powers = [p for p in results.power.items()]\n",
    "    names = [dt[0].name for dt, _ in powers]\n",
    "    idx = np.argsort(names)\n",
    "    powers = [powers[idx[i]] for i in range(len(powers))]\n",
    "    for device_terminal, value in powers:\n",
    "        label = \"%s[%d]\" % (device_terminal[0].name,\n",
    "                            device_terminal[1])\n",
    "        ax[0].plot(target_output.index, value, label=label)\n",
    "    #ax[0].legend(loc=\"upper left\")\n",
    "    ax[0].set_xlim(['01-01-2012', '01-31-2012'])\n",
    "    ax[0].tick_params(axis=\"x\", which=\"both\", bottom=\"off\", top=\"off\",\n",
    "                  labelbottom=\"off\", left=\"off\", right=\"off\", labelleft=\"off\")\n",
    "\n",
    "    ax[0].legend(['gen.', 'batt.', 'target', 'wind'], loc='lower left')\n",
    "    \n",
    "    ax[1].plot(target_output.index, energy_stored)\n",
    "    ax[1].set_ylabel('Energy (MWh)')\n",
    "    ax[1].set_xlim(['01-01-2012', '01-31-2012'])\n",
    "    #ax[1].set_ylim([0, 100])\n",
    "    ax[1].tick_params(axis=\"x\", which=\"both\", bottom=\"off\", top=\"off\",\n",
    "                  labelbottom=\"off\", left=\"off\", right=\"off\", labelleft=\"off\")\n",
    "    \n",
    "    ax[2].set_ylabel(\"Price (\\$/MWh)\")\n",
    "    for net, value in results.price.items():\n",
    "        price = value/len_interval\n",
    "        ax[2].plot(target_output.index, price, label=net.name)\n",
    "    ax[2].tick_params(axis=\"x\", which=\"both\", bottom=\"off\", top=\"off\",\n",
    "                  labelbottom=\"off\", left=\"off\", right=\"off\", labelleft=\"off\")\n",
    "    ax[2].set_xlim(['01-01-2012', '01-31-2012'])\n",
    "\n",
    "    for device_terminal, value in powers:\n",
    "        label = \"%s[%d]\" % (device_terminal[0].name,\n",
    "                            device_terminal[1])\n",
    "        ax[3].plot(target_output.index, value*price, label=label)\n",
    "    ax[3].set_xlim(['01-01-2012', '01-31-2012'])\n",
    "    ax[3].set_ylim([-1000, 1000])\n",
    "    ax[3].set_ylabel(\"Pmnt.\\ rate (\\$/h)\")\n",
    "    \n",
    "    plt.xlabel('time')\n",
    "    plt.savefig(graphdir + 'wind_%s_results.pdf' % methodname)"
   ]
  },
  {
   "cell_type": "code",
   "execution_count": null,
   "metadata": {},
   "outputs": [],
   "source": [
    "wind_gen, gas_gen, storage = dopf_network.devices[0:3]\n",
    "plot(dopf_network.results, baseline[sim_start_time:sim_end_time], storage.energy.value, 'dopf')"
   ]
  },
  {
   "cell_type": "markdown",
   "metadata": {},
   "source": [
    "## Prescient MPC "
   ]
  },
  {
   "cell_type": "code",
   "execution_count": null,
   "metadata": {
    "scrolled": true
   },
   "outputs": [],
   "source": [
    "T_MPC = intervals_per_day\n",
    "\n",
    "energy_stored = np.empty(T)\n",
    "\n",
    "target_output_MPC, wind_power_available_MPC, initial_storage_MPC, final_storage_MPC, final_energy_price, MPC_network = \\\n",
    "    make_network(T_MPC, 1)\n",
    "    \n",
    "initial_storage_MPC.value = np.matrix(initial_storage)\n",
    "final_storage_MPC.value = np.matrix(initial_storage)\n",
    "final_energy_price.value = np.matrix(MPC_final_energy_price)\n",
    "\n",
    "def make_forecasts(t):\n",
    "    target_output_MPC.value = np.matrix(target_output[t:t+T_MPC]).T\n",
    "    wind_power_available_MPC.value = np.matrix(p_wind[sim_start_time+t:sim_start_time+t+T_MPC]).T\n",
    "    \n",
    "def implement(t):\n",
    "    energy_stored[t] = MPC_network.devices[2].energy.value[0]\n",
    "    initial_storage_MPC.value = np.matrix(energy_stored[t])\n",
    "    final_storage_MPC.value = np.matrix(energy_stored[t]) # change this to change MPC behavior\n",
    "    \n",
    "cost_prescient_MPC, prescient_MPC_results = \\\n",
    "    run_mpc(MPC_network, T, make_forecasts, implement, verbose = False, solver='ECOS')"
   ]
  },
  {
   "cell_type": "code",
   "execution_count": null,
   "metadata": {},
   "outputs": [],
   "source": [
    "wind_gen, gas_gen, storage = MPC_network.devices[0:3]\n",
    "\n",
    "print_and_plot_stats(wind_power_avail =  p_wind[sim_start_time:sim_end_time], \n",
    "                     wind_power_used = -prescient_MPC_results.power[(wind_gen, 0)].flatten(), \n",
    "                     gas_power = -prescient_MPC_results.power[(gas_gen,0)].flatten(), \n",
    "                     output =  target_output[:T],\n",
    "                     cost = cost_prescient_MPC)\n",
    "print(prescient_MPC_results)"
   ]
  },
  {
   "cell_type": "code",
   "execution_count": null,
   "metadata": {},
   "outputs": [],
   "source": [
    "plot(prescient_MPC_results,  baseline[sim_start_time:sim_end_time], energy_stored, 'presc_mpc')"
   ]
  },
  {
   "cell_type": "markdown",
   "metadata": {},
   "source": [
    "## MPC with baseline and residual AR"
   ]
  },
  {
   "cell_type": "code",
   "execution_count": null,
   "metadata": {
    "scrolled": true
   },
   "outputs": [],
   "source": [
    "T_MPC = intervals_per_day\n",
    "\n",
    "energy_stored = np.empty(T)\n",
    "\n",
    "target_output_MPC, wind_power_available_MPC, initial_storage_MPC, final_storage_MPC, final_energy_price, MPC_network = \\\n",
    "    make_network(T_MPC, 1)\n",
    "    \n",
    "initial_storage_MPC.value = np.matrix(initial_storage)\n",
    "final_storage_MPC.value = np.matrix(initial_storage)\n",
    "final_energy_price.value = np.matrix(MPC_final_energy_price)\n",
    "\n",
    "def predict_wind(p_wind, baseline, autoreg_residual_params, t, M, L, K = 1):\n",
    "    past = p_wind[t-M:t]\n",
    "    past_baseline = baseline[t-M:t]\n",
    "    fut_baseline = baseline[t:t+L]\n",
    "    pred = list(reversed(past-past_baseline)) @ autoreg_residual_params\n",
    "    pred = pd.Series(pred, index=fut_baseline.index)\n",
    "    pred = np.maximum(wind_power_min, pred + fut_baseline)\n",
    "    pred = np.minimum(wind_power_max, pred + fut_baseline)\n",
    "    return pred\n",
    "\n",
    "def make_forecasts(t):\n",
    "    target_output_MPC.value = np.matrix(target_output[t:t+T_MPC]).T\n",
    "    wind_power_available_MPC.value = np.matrix(p_wind[sim_start_time+t:sim_start_time+t+T_MPC]).T\n",
    "    wind_power_available_MPC.value = .9*wind_power_available_MPC.value + .1* \\\n",
    "                np.matrix(np.concatenate([[p_wind[sim_start_time+t]],\n",
    "                predict_wind(p_wind, baseline, autoreg_residual_params, sim_start_time+t+1, T_MPC, T_MPC)[:-1]])).T\n",
    "    #wind_power_available_MPC.value = np.matrix(np.concatenate([\n",
    "    #    [p_wind[sim_start_time+t]],\n",
    "    #    predict_wind(p_wind, baseline, autoreg_residual_params, sim_start_time+t+1, T_MPC, T_MPC)[:-1]])).T\n",
    "        \n",
    "def implement(t):\n",
    "    energy_stored[t] = MPC_network.devices[2].energy.value[0]\n",
    "    #print(MPC_network.devices[2].energy.value)\n",
    "    #print(energy_stored)\n",
    "    initial_storage_MPC.value = np.matrix(energy_stored[t])\n",
    "    final_storage_MPC.value = np.matrix(energy_stored[t]) # change this to change MPC behavior\n",
    "    \n",
    "cost_AR_MPC, AR_MPC_results = \\\n",
    "    run_mpc(MPC_network, T, make_forecasts, implement, verbose = False, solver='ECOS')"
   ]
  },
  {
   "cell_type": "code",
   "execution_count": null,
   "metadata": {},
   "outputs": [],
   "source": [
    "wind_gen, gas_gen, storage = MPC_network.devices[0:3]\n",
    "\n",
    "print_and_plot_stats(wind_power_avail =  p_wind[sim_start_time:sim_end_time], \n",
    "                     wind_power_used = -AR_MPC_results.power[(wind_gen, 0)].flatten(), \n",
    "                     gas_power = -AR_MPC_results.power[(gas_gen,0)].flatten(), \n",
    "                     output =  target_output[:T],\n",
    "                     cost = cost_AR_MPC)\n",
    "print(AR_MPC_results)"
   ]
  },
  {
   "cell_type": "code",
   "execution_count": null,
   "metadata": {},
   "outputs": [],
   "source": [
    "plot(AR_MPC_results,  baseline[sim_start_time:sim_end_time], energy_stored, 'AR_mpc')"
   ]
  },
  {
   "cell_type": "markdown",
   "metadata": {},
   "source": [
    "### Diagnostic "
   ]
  },
  {
   "cell_type": "code",
   "execution_count": null,
   "metadata": {},
   "outputs": [],
   "source": [
    "AR_MPC_results.power"
   ]
  },
  {
   "cell_type": "markdown",
   "metadata": {},
   "source": [
    "## Robust MPC "
   ]
  },
  {
   "cell_type": "code",
   "execution_count": null,
   "metadata": {},
   "outputs": [],
   "source": [
    "raise\n",
    "\n",
    "T_MPC = intervals_per_day\n",
    "K = 20\n",
    "\n",
    "energy_stored = np.empty(T)\n",
    "\n",
    "target_output_MPC, wind_power_available_MPC, initial_storage_MPC, final_storage_MPC, final_energy_price, MPC_network = \\\n",
    "    make_network(T_MPC, K)\n",
    "    \n",
    "initial_storage_MPC.value = np.matrix(initial_storage)\n",
    "final_storage_MPC.value = np.matrix(initial_storage)\n",
    "final_energy_price.value = np.matrix(MPC_final_energy_price)\n",
    "\n",
    "\n",
    "def make_forecasts(t):\n",
    "    target_output_MPC.value = np.tile(target_output[t:t+T_MPC], (K,1)).T\n",
    "#     wind_power_available_MPC.value = np.tile(np.concatenate([\n",
    "#         [p_wind[sim_start_time+t]],\n",
    "#         predict_wind(p_wind, baseline, autoreg_residual_params, sim_start_time+t+1, T_MPC, T_MPC)[:-1]]),\n",
    "#                                              (K,1)).T\n",
    "    # draw scenarios\n",
    "    scenarios = np.hstack([np.matrix([p_wind[sim_start_time+t]]*K).T,\n",
    "                           np.random.multivariate_normal(predict_wind(p_wind, baseline, \n",
    "                            autoreg_residual_params, sim_start_time+t+1, T_MPC, T_MPC), \n",
    "                             sigma_residual_errors, K)[:,:-1]])\n",
    "    scenarios = np.maximum(wind_power_min, scenarios)\n",
    "    scenarios = np.minimum(wind_power_max, scenarios)\n",
    "    wind_power_available_MPC.value = scenarios.T\n",
    "    \n",
    "        \n",
    "def implement(t):\n",
    "    energy_stored[t] = MPC_network.devices[2].energy.value[0,0]\n",
    "    initial_storage_MPC.value = np.matrix(energy_stored[t])\n",
    "    \n",
    "cost_robust_MPC, MPC_robust_results = \\\n",
    "    run_mpc(MPC_network, T, make_forecasts, implement, verbose = False, solver='ECOS')"
   ]
  },
  {
   "cell_type": "code",
   "execution_count": null,
   "metadata": {},
   "outputs": [],
   "source": [
    "wind_gen, gas_gen, storage = MPC_network.devices[0:3]\n",
    "\n",
    "print_and_plot_stats(wind_power_avail =  p_wind[sim_start_time:sim_end_time], \n",
    "                     wind_power_used = -MPC_robust_results.power[(wind_gen, 0)].flatten(), \n",
    "                     gas_power = -MPC_robust_results.power[(gas_gen,0)].flatten(), \n",
    "                     output =  target_output[:T],\n",
    "                     cost = cost_robust_MPC)\n",
    "print(MPC_robust_results)\n",
    "print(MPC_robust_results.status)"
   ]
  },
  {
   "cell_type": "code",
   "execution_count": null,
   "metadata": {},
   "outputs": [],
   "source": [
    "plot(MPC_robust_results,  baseline[sim_start_time:sim_end_time], energy_stored, 'robust_mpc')"
   ]
  },
  {
   "cell_type": "code",
   "execution_count": null,
   "metadata": {},
   "outputs": [],
   "source": []
  }
 ],
 "metadata": {
  "anaconda-cloud": {},
  "kernelspec": {
   "display_name": "Python [default]",
   "language": "python",
   "name": "python3"
  },
  "language_info": {
   "codemirror_mode": {
    "name": "ipython",
    "version": 3
   },
   "file_extension": ".py",
   "mimetype": "text/x-python",
   "name": "python",
   "nbconvert_exporter": "python",
   "pygments_lexer": "ipython3",
   "version": "3.5.6"
  }
 },
 "nbformat": 4,
 "nbformat_minor": 1
}
