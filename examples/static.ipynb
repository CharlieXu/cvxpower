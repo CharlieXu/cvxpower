{
 "cells": [
  {
   "cell_type": "markdown",
   "metadata": {},
   "source": [
    "# Static power flow"
   ]
  },
  {
   "cell_type": "code",
   "execution_count": 1,
   "metadata": {},
   "outputs": [],
   "source": [
    "%matplotlib inline\n",
    "import matplotlib.pyplot as plt\n",
    "import matplotlib\n",
    "import numpy as np\n",
    "\n",
    "from cvxpower import *\n",
    "\n",
    "matplotlib.rc(\"figure\", figsize=(7,7))\n",
    "matplotlib.rc(\"lines\", linewidth=2)"
   ]
  },
  {
   "cell_type": "markdown",
   "metadata": {},
   "source": [
    "## Basic examples"
   ]
  },
  {
   "cell_type": "markdown",
   "metadata": {},
   "source": [
    "### Hello world"
   ]
  },
  {
   "cell_type": "code",
   "execution_count": 2,
   "metadata": {},
   "outputs": [
    {
     "name": "stdout",
     "output_type": "stream",
     "text": [
      "Status: optimal\n",
      "Terminal                  Power\n",
      "--------                  -----\n",
      "FixedLoad[0]             100.00\n",
      "Generator[0]            -100.00\n",
      "\n",
      "Net                       Price\n",
      "---                       -----\n",
      "Net                      0.0000\n",
      "\n",
      "Device                  Payment\n",
      "------                  -------\n",
      "FixedLoad                  0.00\n",
      "Generator                  0.00\n",
      "\n",
      "Power and price are averages over the time horizon. Payment is total.\n",
      "\n"
     ]
    }
   ],
   "source": [
    "load = FixedLoad(power=100)\n",
    "gen = Generator(power_max=1000, alpha=0.01, beta=100)\n",
    "net = Net([load.terminals[0], gen.terminals[0]])\n",
    "network = Group([load, gen], [net])\n",
    "\n",
    "network.init_problem()\n",
    "network.problem.solve()\n",
    "print(network.results.summary())"
   ]
  },
  {
   "cell_type": "markdown",
   "metadata": {},
   "source": [
    "### Curtailable load"
   ]
  },
  {
   "cell_type": "code",
   "execution_count": 3,
   "metadata": {},
   "outputs": [
    {
     "name": "stdout",
     "output_type": "stream",
     "text": [
      "Status: optimal\n",
      "Terminal                  Power\n",
      "--------                  -----\n",
      "CurtailableLoad[0]        25.00\n",
      "Generator[0]             -25.00\n",
      "\n",
      "Net                       Price\n",
      "---                       -----\n",
      "Net                      0.0000\n",
      "\n",
      "Device                  Payment\n",
      "------                  -------\n",
      "CurtailableLoad            0.00\n",
      "Generator                  0.00\n",
      "\n",
      "Power and price are averages over the time horizon. Payment is total.\n",
      "\n"
     ]
    }
   ],
   "source": [
    "load = CurtailableLoad(power=1000, alpha=150)\n",
    "gen = Generator(power_max=1000, alpha=1, beta=100)\n",
    "net = Net([load.terminals[0], gen.terminals[0]])\n",
    "network = Group([load, gen], [net])\n",
    "\n",
    "network.init_problem()\n",
    "network.problem.solve()\n",
    "print(network.results.summary())"
   ]
  },
  {
   "cell_type": "markdown",
   "metadata": {},
   "source": [
    "### Two generators, transmission line"
   ]
  },
  {
   "cell_type": "code",
   "execution_count": 4,
   "metadata": {},
   "outputs": [
    {
     "name": "stdout",
     "output_type": "stream",
     "text": [
      "Status: optimal\n",
      "Terminal                  Power\n",
      "--------                  -----\n",
      "FixedLoad[0]             100.00\n",
      "Gen1[0]                  -50.00\n",
      "Gen2[0]                  -50.00\n",
      "TransmissionLine[1]       50.00\n",
      "TransmissionLine[0]      -50.00\n",
      "\n",
      "Net                       Price\n",
      "---                       -----\n",
      "Net                     90.9000\n",
      "Net                      0.0000\n",
      "\n",
      "Device                  Payment\n",
      "------                  -------\n",
      "TransmissionLine       -4545.00\n",
      "FixedLoad               9090.00\n",
      "Gen2                       0.00\n",
      "Gen1                   -4545.00\n",
      "\n",
      "Power and price are averages over the time horizon. Payment is total.\n",
      "\n"
     ]
    }
   ],
   "source": [
    "load = FixedLoad(power=100)\n",
    "gen1 = Generator(power_max=1000, alpha=0.01, beta=100, name=\"Gen1\")\n",
    "gen2 = Generator(power_max=100, alpha=0.1, beta=0.1, name=\"Gen2\")\n",
    "line = TransmissionLine(power_max=50)\n",
    "\n",
    "net1 = Net([load.terminals[0], gen1.terminals[0], line.terminals[0]])\n",
    "net2 = Net([gen2.terminals[0], line.terminals[1]])\n",
    "network = Group([load, gen1, gen2, line], [net1, net2])\n",
    "\n",
    "network.init_problem()\n",
    "network.problem.solve()\n",
    "print(network.results.summary())"
   ]
  },
  {
   "cell_type": "markdown",
   "metadata": {},
   "source": [
    "### Three buses\n",
    "\n",
    "Figure 2.1 from Kraning, et al. without the battery.\n",
    "\n",
    "![Three bus example](./three_bus.png)\n",
    "\n"
   ]
  },
  {
   "cell_type": "code",
   "execution_count": 5,
   "metadata": {},
   "outputs": [
    {
     "name": "stdout",
     "output_type": "stream",
     "text": [
      "Status: optimal\n",
      "Terminal                  Power\n",
      "--------                  -----\n",
      "Gen1[0]                  -90.05\n",
      "Gen2[0]                  -59.95\n",
      "Load1[0]                  50.00\n",
      "Load2[0]                 100.00\n",
      "TransmissionLine[1]      -50.06\n",
      "TransmissionLine[0]       50.06\n",
      "TransmissionLine[1]       10.00\n",
      "TransmissionLine[0]      -10.00\n",
      "TransmissionLine[1]       49.94\n",
      "TransmissionLine[0]      -49.94\n",
      "\n",
      "Net                       Price\n",
      "---                       -----\n",
      "Net                    914.5471\n",
      "Net                    914.5297\n",
      "Net                     89.7337\n",
      "\n",
      "Device                  Payment\n",
      "------                  -------\n",
      "Gen1                  -82357.72\n",
      "Load2                   8973.37\n",
      "TransmissionLine           0.17\n",
      "TransmissionLine       41194.06\n",
      "TransmissionLine       41286.41\n",
      "Gen2                  -54822.78\n",
      "Load1                  45726.49\n",
      "\n",
      "Power and price are averages over the time horizon. Payment is total.\n",
      "\n"
     ]
    }
   ],
   "source": [
    "load1 = FixedLoad(power=50, name=\"Load1\")\n",
    "load2 = FixedLoad(power=100, name=\"Load2\")\n",
    "gen1 = Generator(power_max=1000, alpha=0.01, beta=100, name=\"Gen1\")\n",
    "gen2 = Generator(power_max=100, alpha=0.1, beta=0.1, name=\"Gen2\")\n",
    "line1 = TransmissionLine(power_max=50)\n",
    "line2 = TransmissionLine(power_max=10)\n",
    "line3 = TransmissionLine(power_max=50)\n",
    "\n",
    "net1 = Net([load1.terminals[0], gen1.terminals[0], line1.terminals[0], line2.terminals[0]])\n",
    "net2 = Net([load2.terminals[0], line1.terminals[1], line3.terminals[0]])\n",
    "net3 = Net([gen2.terminals[0], line2.terminals[1], line3.terminals[1]])\n",
    "network = Group([load1, load2, gen1, gen2, line1, line2, line3], [net1, net2, net3])\n",
    "\n",
    "network.init_problem()\n",
    "network.problem.solve()\n",
    "print(network.results.summary())"
   ]
  },
  {
   "cell_type": "markdown",
   "metadata": {},
   "source": [
    "## Grouping devices\n",
    "\n",
    "We can wrap up several devices and nets into a single device"
   ]
  },
  {
   "cell_type": "code",
   "execution_count": 6,
   "metadata": {},
   "outputs": [
    {
     "name": "stdout",
     "output_type": "stream",
     "text": [
      "Status: optimal\n",
      "Terminal                  Power\n",
      "--------                  -----\n",
      "FixedLoad[0]              13.00\n",
      "Grid[0]                   -3.00\n",
      "Solar[0]                 -10.00\n",
      "TransmissionLine[0]       -3.00\n",
      "TransmissionLine[1]        3.00\n",
      "\n",
      "Net                       Price\n",
      "---                       -----\n",
      "Net                      0.0000\n",
      "Meter                   -0.0000\n",
      "\n",
      "Device                  Payment\n",
      "------                  -------\n",
      "Grid                       0.00\n",
      "TransmissionLine          -0.00\n",
      "FixedLoad                  0.00\n",
      "Solar                     -0.00\n",
      "\n",
      "Power and price are averages over the time horizon. Payment is total.\n",
      "\n"
     ]
    }
   ],
   "source": [
    "solar = Generator(power_max=10, alpha=0, beta=0, name=\"Solar\")\n",
    "load = FixedLoad(power=13)\n",
    "line = TransmissionLine(power_max=25)\n",
    "net = Net([load.terminals[0], solar.terminals[0], line.terminals[0]])\n",
    "home = Group([solar, load, line], [net], [line.terminals[1]], name=\"Home\")\n",
    "\n",
    "grid = Generator(power_max=1e6, alpha=0.05, beta=100, name=\"Grid\")\n",
    "meter = Net([line.terminals[1], grid.terminals[0]], name=\"Meter\")\n",
    "network = Group([home, grid], [meter])\n",
    "\n",
    "network.init_problem()\n",
    "network.problem.solve()\n",
    "print(network.results.summary())"
   ]
  },
  {
   "cell_type": "markdown",
   "metadata": {},
   "source": [
    "## Varying parameters\n",
    "\n",
    "We can modify a single parameter and reoptimize, which is useful for sweeping over a parameter range."
   ]
  },
  {
   "cell_type": "code",
   "execution_count": 7,
   "metadata": {},
   "outputs": [
    {
     "data": {
      "text/plain": [
       "<matplotlib.legend.Legend at 0xa751a7cc>"
      ]
     },
     "execution_count": 7,
     "metadata": {},
     "output_type": "execute_result"
    },
    {
     "data": {
      "image/png": "[encoded data removed]",
      "text/plain": [
       "<Figure size 432x288 with 1 Axes>"
      ]
     },
     "metadata": {
      "needs_background": "light"
     },
     "output_type": "display_data"
    }
   ],
   "source": [
    "load1 = FixedLoad(power=50, name=\"Load1\")\n",
    "load2 = FixedLoad(power=100, name=\"Load2\")\n",
    "gen1 = Generator(power_max=100, alpha=1, beta=10, name=\"Gen1\")\n",
    "gen2 = Generator(power_max=1000, alpha=0.01, beta=0, name=\"Gen2\")\n",
    "line1 = TransmissionLine(power_max=100)\n",
    "line2 = TransmissionLine(power_max=10)\n",
    "line3 = TransmissionLine(power_max=Parameter(1))\n",
    "\n",
    "net1 = Net([load1.terminals[0], gen1.terminals[0], line1.terminals[0], line2.terminals[0]])\n",
    "net2 = Net([load2.terminals[0], line1.terminals[1], line3.terminals[0]])\n",
    "net3 = Net([gen2.terminals[0], line2.terminals[1], line3.terminals[1]])\n",
    "network = Group([load1, load2, gen1, gen2, line1, line2, line3], [net1, net2, net3])\n",
    "\n",
    "network.init_problem()\n",
    "xs = np.linspace(0, 150, 100)\n",
    "prices = np.empty((len(xs), 3))\n",
    "for i, x in enumerate(xs):\n",
    "    line3.power_max.value = [x]\n",
    "    network.problem.solve()\n",
    "    prices[i,:] = [net.price for net in network.nets]\n",
    "    \n",
    "plt.plot(xs, prices)\n",
    "plt.xlabel(\"Line capacity\")\n",
    "plt.ylabel(\"Price\")\n",
    "plt.legend([\"Bus 1\", \"Bus 2\", \"Bus 3\"])"
   ]
  },
  {
   "cell_type": "code",
   "execution_count": null,
   "metadata": {},
   "outputs": [],
   "source": []
  }
 ],
 "metadata": {
  "kernelspec": {
   "display_name": "Python [default]",
   "language": "python",
   "name": "python3"
  },
  "language_info": {
   "codemirror_mode": {
    "name": "ipython",
    "version": 3
   },
   "file_extension": ".py",
   "mimetype": "text/x-python",
   "name": "python",
   "nbconvert_exporter": "python",
   "pygments_lexer": "ipython3",
   "version": "3.5.6"
  }
 },
 "nbformat": 4,
 "nbformat_minor": 1
}
